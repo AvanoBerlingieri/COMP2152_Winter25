{
 "cells": [
  {
   "cell_type": "code",
   "execution_count": null,
   "id": "initial_id",
   "metadata": {
    "collapsed": true
   },
   "outputs": [],
   "source": [
    "# Author: Avano Berlingieri\n",
    "# Assignment 1\n",
    "\n",
    "gym_member = \"Alex Alliton\" # Data type: String\n",
    "preferred_weight_kg = 20.5 # Data type: Float\n",
    "highest_reps = 25 # Data type: Int\n",
    "membership_active = True # Data type: Boolean\n",
    "\n",
    "# Data type: dict\n",
    "workout_stats = {\n",
    "    \"Nima\": (0, 10, 90),\n",
    "    \"Lhek\": (10, 60, 35),\n",
    "    \"Avano\": (30, 45, 75),\n",
    "}\n",
    "\n",
    "totals = {}\n",
    "for name, minutes in workout_stats.items():\n",
    "    total_minutes = sum(minutes)\n",
    "    totals[f\"{name}_total\"] = total_minutes\n",
    "\n",
    "workout_stats.update(totals)\n",
    "print(\"Workout stats from dictionary:\")\n",
    "print(workout_stats)\n",
    "\n",
    "# Data type: List\n",
    "workout_list = [[workout_stats[\"Nima\"][0], workout_stats[\"Nima\"][1], workout_stats[\"Nima\"][2]],\n",
    "                [workout_stats[\"Lhek\"][0], workout_stats[\"Lhek\"][1], workout_stats[\"Lhek\"][2]],\n",
    "                [workout_stats[\"Avano\"][0], workout_stats[\"Avano\"][1], workout_stats[\"Avano\"][2]]]\n",
    "\n",
    "print(\"Workout stats from nested lists:\")\n",
    "print(workout_list)\n",
    "\n",
    "yoga_running = [row[:2] for row in workout_list]\n",
    "print(\"Time for yoga & running:\")\n",
    "print(yoga_running)\n",
    "\n",
    "weightlifting_last_two = [row[2] for row in workout_list[-2:]]\n",
    "print(\"Time weightlifting for Last Two Friends:\")\n",
    "print(weightlifting_last_two)\n",
    "\n",
    "for name in workout_stats:\n",
    "    if \"_total\" in name and workout_stats[name] >= 120:\n",
    "        friend_name = name.replace(\"_total\",\"\")\n",
    "        print(f\"Great job staying active {friend_name}!\")\n",
    "\n",
    "friend = input(\"Enter a friend's name to check workout stats: \")\n",
    "\n",
    "if friend in workout_stats:\n",
    "    workout_data = workout_stats[friend]\n",
    "    print(f\"{friend}'s Workout Stats - Yoga: {workout_data[0]}, Running: {workout_data[1]},\"\n",
    "          f\" Weightlifting: {workout_data[2]}, Total: {workout_stats[f'{friend}_total']}\")\n",
    "else:\n",
    "    print(f\"{friend} was not found in the records.\")\n",
    "\n",
    "highest_friend = max(totals, key = totals.get)\n",
    "lowest_friend = min(totals, key = totals.get)\n",
    "\n",
    "print(f\"{highest_friend.replace('_total', '')} spent the most time time working out: {totals[highest_friend]} minutes\")\n",
    "print(f\"{lowest_friend.replace('_total', '')} spent the least time working out: {totals[lowest_friend]} minutes\")"
   ]
  }
 ],
 "metadata": {
  "kernelspec": {
   "display_name": "Python 3",
   "language": "python",
   "name": "python3"
  },
  "language_info": {
   "codemirror_mode": {
    "name": "ipython",
    "version": 2
   },
   "file_extension": ".py",
   "mimetype": "text/x-python",
   "name": "python",
   "nbconvert_exporter": "python",
   "pygments_lexer": "ipython2",
   "version": "2.7.6"
  }
 },
 "nbformat": 4,
 "nbformat_minor": 5
}
